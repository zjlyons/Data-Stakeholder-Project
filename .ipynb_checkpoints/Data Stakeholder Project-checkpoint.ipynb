{
 "cells": [
  {
   "cell_type": "code",
   "execution_count": 143,
   "metadata": {},
   "outputs": [
    {
     "data": {
      "text/plain": [
       "RendererRegistry.enable('notebook')"
      ]
     },
     "execution_count": 143,
     "metadata": {},
     "output_type": "execute_result"
    }
   ],
   "source": [
    "import pandas as pd\n",
    "import numpy as np\n",
    "import json\n",
    "from datetime import datetime\n",
    "%matplotlib inline\n",
    "import matplotlib.pyplot as plt\n",
    "import altair as alt\n",
    "alt.renderers.enable('notebook')\n"
   ]
  },
  {
   "cell_type": "code",
   "execution_count": 144,
   "metadata": {},
   "outputs": [],
   "source": [
    "df_import = pd.read_json('refugee-crisis-week02-sample1000.jsonl', lines = True, orient = 'columns')\n",
    "df_import[0:].to_csv(\"refugee-crisis-week02-sample1000.csv\", index=False, encoding='utf8') "
   ]
  },
  {
   "cell_type": "code",
   "execution_count": 145,
   "metadata": {},
   "outputs": [
    {
     "data": {
      "text/html": [
       "<div>\n",
       "<style scoped>\n",
       "    .dataframe tbody tr th:only-of-type {\n",
       "        vertical-align: middle;\n",
       "    }\n",
       "\n",
       "    .dataframe tbody tr th {\n",
       "        vertical-align: top;\n",
       "    }\n",
       "\n",
       "    .dataframe thead th {\n",
       "        text-align: right;\n",
       "    }\n",
       "</style>\n",
       "<table border=\"1\" class=\"dataframe\">\n",
       "  <thead>\n",
       "    <tr style=\"text-align: right;\">\n",
       "      <th></th>\n",
       "      <th>actor</th>\n",
       "      <th>body</th>\n",
       "      <th>favoritesCount</th>\n",
       "      <th>generator</th>\n",
       "      <th>geo</th>\n",
       "      <th>gnip</th>\n",
       "      <th>id</th>\n",
       "      <th>inReplyTo</th>\n",
       "      <th>link</th>\n",
       "      <th>location</th>\n",
       "      <th>...</th>\n",
       "      <th>objectType</th>\n",
       "      <th>postedTime</th>\n",
       "      <th>provider</th>\n",
       "      <th>retweetCount</th>\n",
       "      <th>twitter_entities</th>\n",
       "      <th>twitter_extended_entities</th>\n",
       "      <th>twitter_filter_level</th>\n",
       "      <th>twitter_lang</th>\n",
       "      <th>twitter_quoted_status</th>\n",
       "      <th>verb</th>\n",
       "    </tr>\n",
       "  </thead>\n",
       "  <tbody>\n",
       "    <tr>\n",
       "      <th>0</th>\n",
       "      <td>{'objecttype': 'person', 'id': 'id:twitter.com...</td>\n",
       "      <td>no, these are belated responses against muslim...</td>\n",
       "      <td>0</td>\n",
       "      <td>{'displayname': 'twitter web client', 'link': ...</td>\n",
       "      <td>nan</td>\n",
       "      <td>{'matching_rules': [{'tag': 'asylum', 'id': 22...</td>\n",
       "      <td>tag:search.twitter.com,2005:645002534361374720</td>\n",
       "      <td>nan</td>\n",
       "      <td>http://twitter.com/sergeimirkat/statuses/64500...</td>\n",
       "      <td>nan</td>\n",
       "      <td>...</td>\n",
       "      <td>activity</td>\n",
       "      <td>[2015-09-18, 22:32:42.000z]</td>\n",
       "      <td>{'objecttype': 'service', 'displayname': 'twit...</td>\n",
       "      <td>0</td>\n",
       "      <td>{'hashtags': [], 'trends': [], 'user_mentions'...</td>\n",
       "      <td>nan</td>\n",
       "      <td>low</td>\n",
       "      <td>en</td>\n",
       "      <td>{'id': 'tag:search.twitter.com,2005:6450003329...</td>\n",
       "      <td>post</td>\n",
       "    </tr>\n",
       "    <tr>\n",
       "      <th>1</th>\n",
       "      <td>{'objecttype': 'person', 'id': 'id:twitter.com...</td>\n",
       "      <td>rt @soccerst_: the refugee who was kicked by a...</td>\n",
       "      <td>0</td>\n",
       "      <td>{'displayname': 'twitterfeed', 'link': 'http:/...</td>\n",
       "      <td>nan</td>\n",
       "      <td>{'matching_rules': [{'tag': 'refugee', 'id': 7...</td>\n",
       "      <td>tag:search.twitter.com,2005:644649804014813184</td>\n",
       "      <td>nan</td>\n",
       "      <td>http://twitter.com/ourjournalism/statuses/6446...</td>\n",
       "      <td>nan</td>\n",
       "      <td>...</td>\n",
       "      <td>activity</td>\n",
       "      <td>[2015-09-17, 23:11:04.000z]</td>\n",
       "      <td>{'objecttype': 'service', 'displayname': 'twit...</td>\n",
       "      <td>0</td>\n",
       "      <td>{'hashtags': [], 'trends': [], 'user_mentions'...</td>\n",
       "      <td>nan</td>\n",
       "      <td>low</td>\n",
       "      <td>en</td>\n",
       "      <td>nan</td>\n",
       "      <td>post</td>\n",
       "    </tr>\n",
       "    <tr>\n",
       "      <th>2</th>\n",
       "      <td>{'objecttype': 'person', 'id': 'id:twitter.com...</td>\n",
       "      <td>to understand the demands of the 'refugee welc...</td>\n",
       "      <td>0</td>\n",
       "      <td>{'displayname': 'twitter for blackberry', 'lin...</td>\n",
       "      <td>nan</td>\n",
       "      <td>{'matching_rules': [{'tag': 'refugee', 'id': 7...</td>\n",
       "      <td>tag:search.twitter.com,2005:644650622793445376</td>\n",
       "      <td>nan</td>\n",
       "      <td>http://twitter.com/deola_o/statuses/6446506227...</td>\n",
       "      <td>nan</td>\n",
       "      <td>...</td>\n",
       "      <td>activity</td>\n",
       "      <td>[2015-09-17, 23:14:20.000z]</td>\n",
       "      <td>{'objecttype': 'service', 'displayname': 'twit...</td>\n",
       "      <td>0</td>\n",
       "      <td>{'hashtags': [{'text': 'refugeeswelcome', 'ind...</td>\n",
       "      <td>{'media': [{'id': 644650622520836096, 'id_str'...</td>\n",
       "      <td>low</td>\n",
       "      <td>en</td>\n",
       "      <td>nan</td>\n",
       "      <td>post</td>\n",
       "    </tr>\n",
       "    <tr>\n",
       "      <th>3</th>\n",
       "      <td>{'objecttype': 'person', 'id': 'id:twitter.com...</td>\n",
       "      <td>refugee crisis to test eu itself at summit of ...</td>\n",
       "      <td>0</td>\n",
       "      <td>{'displayname': 'google', 'link': 'http://www....</td>\n",
       "      <td>nan</td>\n",
       "      <td>{'matching_rules': [{'tag': 'refugee', 'id': 7...</td>\n",
       "      <td>tag:search.twitter.com,2005:645583492315791360</td>\n",
       "      <td>nan</td>\n",
       "      <td>http://twitter.com/theallradar/statuses/645583...</td>\n",
       "      <td>nan</td>\n",
       "      <td>...</td>\n",
       "      <td>activity</td>\n",
       "      <td>[2015-09-20, 13:01:13.000z]</td>\n",
       "      <td>{'objecttype': 'service', 'displayname': 'twit...</td>\n",
       "      <td>0</td>\n",
       "      <td>{'hashtags': [], 'trends': [], 'user_mentions'...</td>\n",
       "      <td>nan</td>\n",
       "      <td>low</td>\n",
       "      <td>en</td>\n",
       "      <td>nan</td>\n",
       "      <td>post</td>\n",
       "    </tr>\n",
       "    <tr>\n",
       "      <th>4</th>\n",
       "      <td>{'objecttype': 'person', 'id': 'id:twitter.com...</td>\n",
       "      <td>#news #stocks rpt--u.n. refugee hunger-relief ...</td>\n",
       "      <td>0</td>\n",
       "      <td>{'displayname': 'twitterfeed', 'link': 'http:/...</td>\n",
       "      <td>nan</td>\n",
       "      <td>{'matching_rules': [{'tag': 'refugee', 'id': 7...</td>\n",
       "      <td>tag:search.twitter.com,2005:645584051928109057</td>\n",
       "      <td>nan</td>\n",
       "      <td>http://twitter.com/daily_finances/statuses/645...</td>\n",
       "      <td>nan</td>\n",
       "      <td>...</td>\n",
       "      <td>activity</td>\n",
       "      <td>[2015-09-20, 13:03:27.000z]</td>\n",
       "      <td>{'objecttype': 'service', 'displayname': 'twit...</td>\n",
       "      <td>0</td>\n",
       "      <td>{'hashtags': [{'text': 'news', 'indices': [0, ...</td>\n",
       "      <td>nan</td>\n",
       "      <td>low</td>\n",
       "      <td>en</td>\n",
       "      <td>nan</td>\n",
       "      <td>post</td>\n",
       "    </tr>\n",
       "  </tbody>\n",
       "</table>\n",
       "<p>5 rows × 21 columns</p>\n",
       "</div>"
      ],
      "text/plain": [
       "                                               actor  \\\n",
       "0  {'objecttype': 'person', 'id': 'id:twitter.com...   \n",
       "1  {'objecttype': 'person', 'id': 'id:twitter.com...   \n",
       "2  {'objecttype': 'person', 'id': 'id:twitter.com...   \n",
       "3  {'objecttype': 'person', 'id': 'id:twitter.com...   \n",
       "4  {'objecttype': 'person', 'id': 'id:twitter.com...   \n",
       "\n",
       "                                                body favoritesCount  \\\n",
       "0  no, these are belated responses against muslim...              0   \n",
       "1  rt @soccerst_: the refugee who was kicked by a...              0   \n",
       "2  to understand the demands of the 'refugee welc...              0   \n",
       "3  refugee crisis to test eu itself at summit of ...              0   \n",
       "4  #news #stocks rpt--u.n. refugee hunger-relief ...              0   \n",
       "\n",
       "                                           generator  geo  \\\n",
       "0  {'displayname': 'twitter web client', 'link': ...  nan   \n",
       "1  {'displayname': 'twitterfeed', 'link': 'http:/...  nan   \n",
       "2  {'displayname': 'twitter for blackberry', 'lin...  nan   \n",
       "3  {'displayname': 'google', 'link': 'http://www....  nan   \n",
       "4  {'displayname': 'twitterfeed', 'link': 'http:/...  nan   \n",
       "\n",
       "                                                gnip  \\\n",
       "0  {'matching_rules': [{'tag': 'asylum', 'id': 22...   \n",
       "1  {'matching_rules': [{'tag': 'refugee', 'id': 7...   \n",
       "2  {'matching_rules': [{'tag': 'refugee', 'id': 7...   \n",
       "3  {'matching_rules': [{'tag': 'refugee', 'id': 7...   \n",
       "4  {'matching_rules': [{'tag': 'refugee', 'id': 7...   \n",
       "\n",
       "                                               id inReplyTo  \\\n",
       "0  tag:search.twitter.com,2005:645002534361374720       nan   \n",
       "1  tag:search.twitter.com,2005:644649804014813184       nan   \n",
       "2  tag:search.twitter.com,2005:644650622793445376       nan   \n",
       "3  tag:search.twitter.com,2005:645583492315791360       nan   \n",
       "4  tag:search.twitter.com,2005:645584051928109057       nan   \n",
       "\n",
       "                                                link location  ...   \\\n",
       "0  http://twitter.com/sergeimirkat/statuses/64500...      nan  ...    \n",
       "1  http://twitter.com/ourjournalism/statuses/6446...      nan  ...    \n",
       "2  http://twitter.com/deola_o/statuses/6446506227...      nan  ...    \n",
       "3  http://twitter.com/theallradar/statuses/645583...      nan  ...    \n",
       "4  http://twitter.com/daily_finances/statuses/645...      nan  ...    \n",
       "\n",
       "  objectType                   postedTime  \\\n",
       "0   activity  [2015-09-18, 22:32:42.000z]   \n",
       "1   activity  [2015-09-17, 23:11:04.000z]   \n",
       "2   activity  [2015-09-17, 23:14:20.000z]   \n",
       "3   activity  [2015-09-20, 13:01:13.000z]   \n",
       "4   activity  [2015-09-20, 13:03:27.000z]   \n",
       "\n",
       "                                            provider retweetCount  \\\n",
       "0  {'objecttype': 'service', 'displayname': 'twit...            0   \n",
       "1  {'objecttype': 'service', 'displayname': 'twit...            0   \n",
       "2  {'objecttype': 'service', 'displayname': 'twit...            0   \n",
       "3  {'objecttype': 'service', 'displayname': 'twit...            0   \n",
       "4  {'objecttype': 'service', 'displayname': 'twit...            0   \n",
       "\n",
       "                                    twitter_entities  \\\n",
       "0  {'hashtags': [], 'trends': [], 'user_mentions'...   \n",
       "1  {'hashtags': [], 'trends': [], 'user_mentions'...   \n",
       "2  {'hashtags': [{'text': 'refugeeswelcome', 'ind...   \n",
       "3  {'hashtags': [], 'trends': [], 'user_mentions'...   \n",
       "4  {'hashtags': [{'text': 'news', 'indices': [0, ...   \n",
       "\n",
       "                           twitter_extended_entities twitter_filter_level  \\\n",
       "0                                                nan                  low   \n",
       "1                                                nan                  low   \n",
       "2  {'media': [{'id': 644650622520836096, 'id_str'...                  low   \n",
       "3                                                nan                  low   \n",
       "4                                                nan                  low   \n",
       "\n",
       "  twitter_lang                              twitter_quoted_status  verb  \n",
       "0           en  {'id': 'tag:search.twitter.com,2005:6450003329...  post  \n",
       "1           en                                                nan  post  \n",
       "2           en                                                nan  post  \n",
       "3           en                                                nan  post  \n",
       "4           en                                                nan  post  \n",
       "\n",
       "[5 rows x 21 columns]"
      ]
     },
     "execution_count": 145,
     "metadata": {},
     "output_type": "execute_result"
    }
   ],
   "source": [
    "df = pd.read_csv(\"refugee-crisis-week02-sample1000.csv\", encoding='utf8')\n",
    "df = df.astype(str).apply(lambda x: x.str.lower())\n",
    "df['postedTime'] = df['postedTime'].str.split('t')\n",
    "df.head()"
   ]
  },
  {
   "cell_type": "code",
   "execution_count": 146,
   "metadata": {},
   "outputs": [
    {
     "data": {
      "text/plain": [
       "inf"
      ]
     },
     "execution_count": 146,
     "metadata": {},
     "output_type": "execute_result"
    }
   ],
   "source": [
    "dateTime = df['postedTime']\n",
    "dates = []\n",
    "times = []\n",
    "for i in dateTime:\n",
    "    dates.append(i[0])\n",
    "    \n",
    "df['date'] = dates\n",
    "df['date'] = pd.to_datetime(df['date'])\n",
    "df['retweetCount'].mean()"
   ]
  },
  {
   "cell_type": "code",
   "execution_count": 147,
   "metadata": {},
   "outputs": [],
   "source": [
    "aggregations = {'body' : 'count'}"
   ]
  },
  {
   "cell_type": "code",
   "execution_count": 161,
   "metadata": {},
   "outputs": [
    {
     "data": {
      "text/html": [
       "<div>\n",
       "<style scoped>\n",
       "    .dataframe tbody tr th:only-of-type {\n",
       "        vertical-align: middle;\n",
       "    }\n",
       "\n",
       "    .dataframe tbody tr th {\n",
       "        vertical-align: top;\n",
       "    }\n",
       "\n",
       "    .dataframe thead th {\n",
       "        text-align: right;\n",
       "    }\n",
       "</style>\n",
       "<table border=\"1\" class=\"dataframe\">\n",
       "  <thead>\n",
       "    <tr style=\"text-align: right;\">\n",
       "      <th></th>\n",
       "      <th>number of tweets</th>\n",
       "    </tr>\n",
       "  </thead>\n",
       "  <tbody>\n",
       "    <tr>\n",
       "      <th>2015-09-15</th>\n",
       "      <td>185</td>\n",
       "    </tr>\n",
       "    <tr>\n",
       "      <th>2015-09-16</th>\n",
       "      <td>180</td>\n",
       "    </tr>\n",
       "    <tr>\n",
       "      <th>2015-09-17</th>\n",
       "      <td>147</td>\n",
       "    </tr>\n",
       "    <tr>\n",
       "      <th>2015-09-18</th>\n",
       "      <td>141</td>\n",
       "    </tr>\n",
       "    <tr>\n",
       "      <th>2015-09-19</th>\n",
       "      <td>126</td>\n",
       "    </tr>\n",
       "    <tr>\n",
       "      <th>2015-09-20</th>\n",
       "      <td>104</td>\n",
       "    </tr>\n",
       "    <tr>\n",
       "      <th>2015-09-21</th>\n",
       "      <td>117</td>\n",
       "    </tr>\n",
       "  </tbody>\n",
       "</table>\n",
       "</div>"
      ],
      "text/plain": [
       "            number of tweets\n",
       "2015-09-15               185\n",
       "2015-09-16               180\n",
       "2015-09-17               147\n",
       "2015-09-18               141\n",
       "2015-09-19               126\n",
       "2015-09-20               104\n",
       "2015-09-21               117"
      ]
     },
     "execution_count": 161,
     "metadata": {},
     "output_type": "execute_result"
    }
   ],
   "source": [
    "user_engagement_df = df.groupby('date').agg(aggregations)\n",
    "user_engagement_df.columns = ['number of tweets']\n",
    "min_date, max_date = min(user_engagement_df.index), max(user_engagement_df.index)\n",
    "user_engagement_df = user_engagement_df.reindex(pd.date_range(min_date,max_date))\n",
    "user_engagement_df"
   ]
  },
  {
   "cell_type": "code",
   "execution_count": 164,
   "metadata": {},
   "outputs": [
    {
     "data": {
      "image/png": "[encoded data removed]",
      "text/plain": [
       "<matplotlib.figure.Figure at 0x11a42ef60>"
      ]
     },
     "metadata": {
      "needs_background": "light"
     },
     "output_type": "display_data"
    }
   ],
   "source": [
    "f,axs = plt.subplots(2,1,figsize=(10,8),sharex=True)\n",
    "\n",
    "user_engagement_df['number of tweets'].plot(ax=axs[0],lw=2,color='b')\n",
    "\n",
    "\n",
    "#ax.set_yscale('symlog')\n",
    "#ax.set_xlabel('')\n",
    "axs[0].set_ylim((0,200))\n",
    "axs[0].set_ylabel('Tweets')\n",
    "axs[0].grid(True,axis='x')"
   ]
  },
  {
   "cell_type": "code",
   "execution_count": 150,
   "metadata": {},
   "outputs": [
    {
     "data": {
      "text/plain": [
       "en     927\n",
       "fr      29\n",
       "und      8\n",
       "ja       5\n",
       "es       5\n",
       "de       5\n",
       "it       4\n",
       "ro       2\n",
       "pt       2\n",
       "in       2\n",
       "th       1\n",
       "ur       1\n",
       "da       1\n",
       "lv       1\n",
       "tr       1\n",
       "nl       1\n",
       "cy       1\n",
       "sl       1\n",
       "ar       1\n",
       "fa       1\n",
       "et       1\n",
       "Name: twitter_lang, dtype: int64"
      ]
     },
     "execution_count": 150,
     "metadata": {},
     "output_type": "execute_result"
    }
   ],
   "source": [
    "df['twitter_lang'].value_counts()"
   ]
  },
  {
   "cell_type": "code",
   "execution_count": 135,
   "metadata": {},
   "outputs": [
    {
     "data": {
      "text/plain": [
       "['actor',\n",
       " 'body',\n",
       " 'favoritesCount',\n",
       " 'generator',\n",
       " 'geo',\n",
       " 'gnip',\n",
       " 'id',\n",
       " 'inReplyTo',\n",
       " 'link',\n",
       " 'location',\n",
       " 'object',\n",
       " 'objectType',\n",
       " 'postedTime',\n",
       " 'provider',\n",
       " 'retweetCount',\n",
       " 'twitter_entities',\n",
       " 'twitter_extended_entities',\n",
       " 'twitter_filter_level',\n",
       " 'twitter_lang',\n",
       " 'twitter_quoted_status',\n",
       " 'verb',\n",
       " 'date']"
      ]
     },
     "execution_count": 135,
     "metadata": {},
     "output_type": "execute_result"
    }
   ],
   "source": [
    "list(df)"
   ]
  },
  {
   "cell_type": "code",
   "execution_count": 136,
   "metadata": {},
   "outputs": [
    {
     "data": {
      "text/plain": [
       "0    no, these are belated responses against muslim...\n",
       "1    rt @soccerst_: the refugee who was kicked by a...\n",
       "2    to understand the demands of the 'refugee welc...\n",
       "3    refugee crisis to test eu itself at summit of ...\n",
       "4    #news #stocks rpt--u.n. refugee hunger-relief ...\n",
       "Name: body, dtype: object"
      ]
     },
     "execution_count": 136,
     "metadata": {},
     "output_type": "execute_result"
    }
   ],
   "source": [
    "df_body = df['body']\n",
    "df_body.head()"
   ]
  },
  {
   "cell_type": "code",
   "execution_count": 137,
   "metadata": {},
   "outputs": [
    {
     "name": "stdout",
     "output_type": "stream",
     "text": [
      "Total number of times 'refugee' appears in all week02 tweets: 588\n",
      "\n",
      "Number of times 'refugee' appears within a tweet: 1    522\n",
      "0    412\n",
      "2     66\n",
      "Name: body, dtype: int64\n"
     ]
    }
   ],
   "source": [
    "r = df_body.str.count('refugee').value_counts()\n",
    "\n",
    "r_total = df_body.str.contains('refugee').sum()\n",
    "\n",
    "print(\"Total number of times 'refugee' appears in all week02 tweets: \" + str(r_total))\n",
    "print(\"\\nNumber of times 'refugee' appears within a tweet: \" + str(r))"
   ]
  },
  {
   "cell_type": "code",
   "execution_count": 138,
   "metadata": {},
   "outputs": [
    {
     "name": "stdout",
     "output_type": "stream",
     "text": [
      "Total number of times 'asylum' appears in all week02 tweets: 113\n",
      "\n",
      "Number of times 'asylum' appears within a tweet: 0    887\n",
      "1    111\n",
      "2      2\n",
      "Name: body, dtype: int64\n"
     ]
    }
   ],
   "source": [
    "a = df_body.str.count('asylum').value_counts()\n",
    "\n",
    "a_total = df_body.str.contains('asylum').sum()\n",
    "\n",
    "print(\"Total number of times 'asylum' appears in all week02 tweets: \" + str(a_total))\n",
    "print(\"\\nNumber of times 'asylum' appears within a tweet: \" + str(a))"
   ]
  },
  {
   "cell_type": "code",
   "execution_count": 139,
   "metadata": {},
   "outputs": [
    {
     "name": "stdout",
     "output_type": "stream",
     "text": [
      "Total number of times 'migrant' appears in all week09 tweets: 266\n",
      "\n",
      "Number of times 'migrant' appears within a tweet: 0    734\n",
      "1    245\n",
      "2     19\n",
      "3      2\n",
      "Name: body, dtype: int64\n"
     ]
    }
   ],
   "source": [
    "m = df_body.str.count('migrant').value_counts()\n",
    "\n",
    "m_total = df_body.str.contains('migrant').sum()\n",
    "\n",
    "print(\"Total number of times 'migrant' appears in all week09 tweets: \" + str(m_total))\n",
    "print(\"\\nNumber of times 'migrant' appears within a tweet: \" + str(m))"
   ]
  },
  {
   "cell_type": "code",
   "execution_count": null,
   "metadata": {},
   "outputs": [],
   "source": []
  },
  {
   "cell_type": "code",
   "execution_count": null,
   "metadata": {},
   "outputs": [],
   "source": []
  }
 ],
 "metadata": {
  "kernelspec": {
   "display_name": "Python 3",
   "language": "python",
   "name": "python3"
  },
  "language_info": {
   "codemirror_mode": {
    "name": "ipython",
    "version": 3
   },
   "file_extension": ".py",
   "mimetype": "text/x-python",
   "name": "python",
   "nbconvert_exporter": "python",
   "pygments_lexer": "ipython3",
   "version": "3.6.3"
  }
 },
 "nbformat": 4,
 "nbformat_minor": 2
}
